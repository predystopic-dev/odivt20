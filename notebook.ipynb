{
 "cells": [
  {
   "cell_type": "code",
   "execution_count": 12,
   "metadata": {},
   "outputs": [],
   "source": [
    "import json\n",
    "import os\n",
    "import matplotlib.pyplot as plt\n",
    "import seaborn as sns\n",
    "import pandas as pd\n",
    "import numpy as np\n",
    "import odi_detail_agg as odi\n",
    "import t20_detail_agg as t20"
   ]
  },
  {
   "cell_type": "code",
   "execution_count": 13,
   "metadata": {},
   "outputs": [],
   "source": [
    "t20_raw_data = t20.get_t20_details(2015)\n",
    "odi_raw_data = odi.get_odi_details(2015)\n"
   ]
  },
  {
   "cell_type": "code",
   "execution_count": 26,
   "metadata": {},
   "outputs": [],
   "source": [
    "def calc_totals(raw_data):\n",
    "    totals = np.zeros((12, 2), dtype=np.int32)\n",
    "    for match in raw_data:\n",
    "        totals[0][0] += match['first_inn_q1_runs']\n",
    "        totals[1][0] += match['first_inn_q2_runs']\n",
    "        totals[2][0] += match['first_inn_q3_runs']\n",
    "        totals[3][0] += match['first_inn_q4_runs']\n",
    "    \n",
    "        totals[4][0] += match['first_inn_q1_wickets']\n",
    "        totals[5][0] += match['first_inn_q2_wickets']\n",
    "        totals[6][0] += match['first_inn_q3_wickets']\n",
    "        totals[7][0] += match['first_inn_q4_wickets']\n",
    "    \n",
    "        totals[8][0] += match['first_inn_q1_deliveries']\n",
    "        totals[9][0] += match['first_inn_q2_deliveries']\n",
    "        totals[10][0] += match['first_inn_q3_deliveries']\n",
    "        totals[11][0] += match['first_inn_q4_deliveries']\n",
    "        \n",
    "        totals[0][1] += match['second_inn_q1_runs']\n",
    "        totals[1][1] += match['second_inn_q2_runs']\n",
    "        totals[2][1] += match['second_inn_q3_runs']\n",
    "        totals[3][1] += match['second_inn_q4_runs']\n",
    "    \n",
    "        totals[4][1] += match['second_inn_q1_wickets']\n",
    "        totals[5][1] += match['second_inn_q2_wickets']\n",
    "        totals[6][1] += match['second_inn_q3_wickets']\n",
    "        totals[7][1] += match['second_inn_q4_wickets']\n",
    "    \n",
    "        totals[8][1] += match['second_inn_q1_deliveries']\n",
    "        totals[9][1] += match['second_inn_q2_deliveries']\n",
    "        totals[10][1] += match['second_inn_q3_deliveries']\n",
    "        totals[11][1] += match['second_inn_q4_deliveries']\n",
    "    return totals"
   ]
  },
  {
   "cell_type": "code",
   "execution_count": 27,
   "metadata": {},
   "outputs": [],
   "source": [
    "t20_totals = calc_totals(t20_raw_data)\n",
    "odi_totals = calc_totals(odi_raw_data)\n",
    "print(f'{t20_totals}\\n --------------- \\n {odi_totals}')"
   ]
  },
  {
   "cell_type": "code",
   "execution_count": 35,
   "metadata": {},
   "outputs": [],
   "source": [
    "t20_bat_avg = np.array([], dtype=[('f_avg_q_1_t20', 'float'), ('f_avg_q_2_t20', 'float'), ('f_avg_q_3_t20', 'float'), ('f_avg_q_4_t20', 'float'), ('s_avg_q_1_t20', 'float'), ('s_avg_q_2_t20', 'float'), ('s_avg_q_3_t20', 'float'), ('s_avg_q_4_t20', 'float')])\n",
    "\n",
    "odi_bat_avg = np.array([], dtype=[('f_avg_q_1_odi', 'float'), ('f_avg_q_2_odi', 'float'), ('f_avg_q_3_odi', 'float'), ('f_avg_q_4_odi', 'float'), ('s_avg_q_1_odi', 'float'), ('s_avg_q_2_odi', 'float'), ('s_avg_q_3_odi', 'float'), ('s_avg_q_4_odi', 'float')])\n",
    "\n",
    "t20_bat_sr = np.array([], dtype=[('f_sr_q_1_t20', 'float'), ('f_sr_q_2_t20', 'float'), ('f_sr_q_3_t20', 'float'), ('f_sr_q_4_t20', 'float'), ('s_sr_q_1_t20', 'float'), ('s_sr_q_2_t20', 'float'), ('s_sr_q_3_t20', 'float'), ('s_sr_q_4_t20', 'float')])\n",
    "\n",
    "odi_bat_sr = np.array([], dtype=[('f_sr_q_1_odi', 'float'), ('f_sr_q_2_odi', 'float'), ('f_sr_q_3_odi', 'float'), ('f_sr_q_4_odi', 'float'), ('s_sr_q_1_odi', 'float'), ('s_sr_q_2_odi', 'float'), ('s_sr_q_3_odi', 'float'), ('s_sr_q_4_odi', 'float')])\n"
   ]
  },
  {
   "cell_type": "code",
   "execution_count": 36,
   "metadata": {},
   "outputs": [],
   "source": [
    "t20_bat_avg = np.append(t20_bat_avg, np.array([(t20_totals[0][0]/t20_totals[4][0], t20_totals[1][0]/t20_totals[5][0], t20_totals[2][0]/t20_totals[6][0], t20_totals[3][0]/t20_totals[7][0], t20_totals[0][1]/t20_totals[4][1], t20_totals[1][1]/t20_totals[5][1], t20_totals[2][1]/t20_totals[6][1], t20_totals[3][1]/t20_totals[7][1])], dtype=t20_bat_avg.dtype))\n",
    "t20_bat_sr = np.append(t20_bat_sr, np.array([(t20_totals[0][0]/t20_totals[8][0], t20_totals[1][0]/t20_totals[9][0], t20_totals[2][0]/t20_totals[10][0], t20_totals[3][0]/t20_totals[11][0], t20_totals[0][1]/t20_totals[8][1], t20_totals[1][1]/t20_totals[9][1], t20_totals[2][1]/t20_totals[10][1], t20_totals[3][1]/t20_totals[11][1])], dtype=t20_bat_sr.dtype))\n",
    "\n",
    "odi_bat_avg = np.append(odi_bat_avg, np.array([(odi_totals[0][0]/odi_totals[4][0], odi_totals[1][0]/odi_totals[5][0], odi_totals[2][0]/odi_totals[6][0], odi_totals[3][0]/odi_totals[7][0], odi_totals[0][1]/odi_totals[4][1], odi_totals[1][1]/odi_totals[5][1], odi_totals[2][1]/odi_totals[6][1], odi_totals[3][1]/odi_totals[7][1])], dtype=odi_bat_avg.dtype))\n",
    "odi_bat_sr = np.append(odi_bat_sr, np.array([(odi_totals[0][0]/odi_totals[8][0], odi_totals[1][0]/odi_totals[9][0], odi_totals[2][0]/odi_totals[10][0], odi_totals[3][0]/odi_totals[11][0], odi_totals[0][1]/odi_totals[8][1], odi_totals[1][1]/odi_totals[9][1], odi_totals[2][1]/odi_totals[10][1], odi_totals[3][1]/odi_totals[11][1])], dtype=odi_bat_sr.dtype))\n",
    "\n",
    "for field in t20_bat_sr.dtype.fields:\n",
    "    t20_bat_sr[field] *= 100\n",
    "\n",
    "for field in odi_bat_sr.dtype.fields:\n",
    "    odi_bat_sr[field] *= 100"
   ]
  },
  {
   "cell_type": "code",
   "execution_count": 50,
   "metadata": {},
   "outputs": [],
   "source": [
    "\n",
    "quarters = ['Q1', 'Q2', 'Q3', 'Q4']\n",
    "\n",
    "t20_first_inn_avg = [float(t20_bat_avg['f_avg_q_1_t20']), float(t20_bat_avg['f_avg_q_2_t20']), float(t20_bat_avg['f_avg_q_3_t20']), float(t20_bat_avg['f_avg_q_4_t20'])]\n",
    "odi_first_inn_avg = [float(odi_bat_avg['f_avg_q_1_odi']), float(odi_bat_avg['f_avg_q_2_odi']), float(odi_bat_avg['f_avg_q_3_odi']), float(odi_bat_avg['f_avg_q_4_odi'])]\n",
    "\n",
    "t20_second_inn_avg = [float(t20_bat_avg['s_avg_q_1_t20']), float(t20_bat_avg['s_avg_q_2_t20']), float(t20_bat_avg['s_avg_q_3_t20']), float(t20_bat_avg['s_avg_q_4_t20'])]\n",
    "odi_second_inn_avg = [float(odi_bat_avg['s_avg_q_1_odi']), float(odi_bat_avg['s_avg_q_2_odi']), float(odi_bat_avg['s_avg_q_3_odi']), float(odi_bat_avg['s_avg_q_4_odi'])]\n",
    "\n",
    "plt.figure(figsize=(10, 6))\n",
    "width = 0.35\n",
    "x = range(len(quarters))\n",
    "plt.bar(x, t20_first_inn_avg, width, label='T20 First Innings')\n",
    "plt.bar([p + width for p in x], odi_first_inn_avg, width, label='ODI First Innings')\n",
    "plt.xlabel('Quarters')\n",
    "plt.ylabel('Batting Average')\n",
    "plt.title('Batting Average in First Innings by Quarters\\n(Matches > 2015)')\n",
    "plt.xticks([p + width/2 for p in x], quarters)\n",
    "plt.legend()\n",
    "plt.show()\n",
    "\n",
    "plt.figure(figsize=(10, 6))\n",
    "plt.bar(x, t20_second_inn_avg, width, label='T20 Second Innings')\n",
    "plt.bar([p + width for p in x], odi_second_inn_avg, width, label='ODI Second Innings')\n",
    "plt.xlabel('Quarters')\n",
    "plt.ylabel('Batting Average')\n",
    "plt.title('Batting Average in Second Innings by Quarters\\n(Matches > 2015)')\n",
    "plt.xticks([p + width/2 for p in x], quarters)\n",
    "plt.legend()\n",
    "plt.show()"
   ]
  },
  {
   "cell_type": "code",
   "execution_count": 51,
   "metadata": {},
   "outputs": [],
   "source": [
    "\n",
    "quarters = ['Q1', 'Q2', 'Q3', 'Q4']\n",
    "\n",
    "t20_first_inn_sr = [float(t20_bat_sr['f_sr_q_1_t20']), float(t20_bat_sr['f_sr_q_2_t20']), float(t20_bat_sr['f_sr_q_3_t20']), float(t20_bat_sr['f_sr_q_4_t20'])]\n",
    "odi_first_inn_sr = [float(odi_bat_sr['f_sr_q_1_odi']), float(odi_bat_sr['f_sr_q_2_odi']), float(odi_bat_sr['f_sr_q_3_odi']), float(odi_bat_sr['f_sr_q_4_odi'])]\n",
    "\n",
    "t20_second_inn_sr = [float(t20_bat_sr['s_sr_q_1_t20']), float(t20_bat_sr['s_sr_q_2_t20']), float(t20_bat_sr['s_sr_q_3_t20']), float(t20_bat_sr['s_sr_q_4_t20'])]\n",
    "odi_second_inn_sr = [float(odi_bat_sr['s_sr_q_1_odi']), float(odi_bat_sr['s_sr_q_2_odi']), float(odi_bat_sr['s_sr_q_3_odi']), float(odi_bat_sr['s_sr_q_4_odi'])]\n",
    "\n",
    "plt.figure(figsize=(10, 6))\n",
    "width = 0.35\n",
    "x = range(len(quarters))\n",
    "plt.bar(x, t20_first_inn_sr, width, label='T20 First Innings')\n",
    "plt.bar([p + width for p in x], odi_first_inn_sr, width, label='ODI First Innings')\n",
    "plt.xlabel('Quarters')\n",
    "plt.ylabel('Batting Strike Rate')\n",
    "plt.title('Batting Strike Rate in First Innings by Quarters\\n(Matches > 2015)')\n",
    "plt.xticks([p + width/2 for p in x], quarters)\n",
    "plt.legend()\n",
    "plt.show()\n",
    "\n",
    "plt.figure(figsize=(10, 6))\n",
    "plt.bar(x, t20_second_inn_sr, width, label='T20 Second Innings')\n",
    "plt.bar([p + width for p in x], odi_second_inn_sr, width, label='ODI Second Innings')\n",
    "plt.xlabel('Quarters')\n",
    "plt.ylabel('Batting Strike Rate')\n",
    "plt.title('Batting Strike in Second Innings by Quarters\\n(Matches > 2015)')\n",
    "plt.xticks([p + width/2 for p in x], quarters)\n",
    "plt.legend()\n",
    "plt.show()"
   ]
  },
  {
   "cell_type": "code",
   "execution_count": null,
   "metadata": {},
   "outputs": [],
   "source": []
  }
 ],
 "metadata": {
  "kernelspec": {
   "display_name": "Python 3 (ipykernel)",
   "language": "python",
   "name": "python3"
  },
  "language_info": {
   "codemirror_mode": {
    "name": "ipython",
    "version": 3
   },
   "file_extension": ".py",
   "mimetype": "text/x-python",
   "name": "python",
   "nbconvert_exporter": "python",
   "pygments_lexer": "ipython3",
   "version": "3.10.12"
  }
 },
 "nbformat": 4,
 "nbformat_minor": 4
}
